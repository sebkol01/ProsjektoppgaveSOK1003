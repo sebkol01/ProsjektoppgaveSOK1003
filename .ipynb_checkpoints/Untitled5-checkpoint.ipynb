{
 "cells": [
  {
   "cell_type": "code",
   "execution_count": 78,
   "id": "9230cf06-18ef-4be5-8f4a-0d8e9ad25963",
   "metadata": {},
   "outputs": [],
   "source": [
    "import numpy as np\n",
    "import matplotlib.pyplot as plt\n",
    "\n",
    "def kalkulator():\n",
    "    years = np.array([])\n",
    "    print(\"Skirv inn størrelse på lånet\")\n",
    "    tb = np.array([]) #terminbeløp\n",
    "    loan = int(input())\n",
    "    print(\"Skriv inn termin i år\")\n",
    "    y = int(input())\n",
    "    print(\"Skriv inn egenandel\")\n",
    "    egen = int(input())\n",
    "    print(\"Skriv inn antall barn\")\n",
    "    kids = int(input())\n",
    "    print(\"Skriv inn antall Biler\")\n",
    "    car = int(input())\n",
    "    rente = 1.019\n",
    "    rlv=np.array([])\n",
    "    \n",
    "\n",
    "    ### factors\n",
    "    if kids >2 and car >1:\n",
    "        rente = rente*1.10\n",
    "    if kids ==2 and car ==1:\n",
    "        rente = rente*1.07\n",
    "    if kids ==1 and car ==1:\n",
    "        rente = rente *1.05\n",
    "    if kids >0 or car >0:\n",
    "        rente = rente * 1.03\n",
    "    \n",
    "    for i in range(y):\n",
    "        years = np.append(years, i)\n",
    "    print(years)\n",
    "    \n",
    "    tb = np.append(tb, (loan*(rente)*((1/rente)-1))/(((1/rente)**(y))-1))\n",
    "    print(tb)\n",
    "    \n",
    "    rl0 = loan\n",
    "    rb0 = (rente-1)*loan\n",
    "    ad0 = tb-rb0\n",
    "    \n",
    "    rl = rl0\n",
    "    rb = rb0\n",
    "    ad = ad0\n",
    "    \n",
    "    \n",
    "    adv = []\n",
    "    rbv = []\n",
    "    rlv = []\n",
    "    for j in range(y):\n",
    "        rl = rl-ad\n",
    "        rlv.append(rl)\n",
    "        print(rl) #\n",
    "        rb = (rente-1)*rl\n",
    "        rbv.append(rb)\n",
    "        print(rb)\n",
    "        ad = tb-rb\n",
    "        adv.append(ad)\n",
    "        print(ad)\n",
    "\n",
    "    \n",
    "    tid1 = ([])\n",
    "    for i in range(y):\n",
    "        t = i\n",
    "        tid1.append(t)\n",
    "    \n",
    "    #skille mellom \n",
    "\n",
    "    #Få tak i elementet som er på plass nummer i og angi verdien \n",
    "    #Gjøre det med hver av de 3 vektorene som er definert.\n",
    "            \n",
    "    plt.bar(tid1, tb, color = \"black\",\n",
    "           width=0.5)\n",
    "    plt.show()\n",
    "    \n",
    "\n",
    "    plt.plot(tid1, rlv, color = \"black\")\n",
    "    plt.show()\n",
    "    \n",
    "    print(rlv)\n",
    "\n",
    "    plt.plot(tid1, rbv, color = \"black\")\n",
    "    \n",
    "    plt.show()\n",
    "    \n",
    "    print(rbv)\n",
    "    \n",
    "    plt.plot(tid1, adv, color = \"black\")\n",
    "    \n",
    "    plt.show()\n",
    "    \n",
    "    print(adv)"
   ]
  },
  {
   "cell_type": "code",
   "execution_count": 79,
   "id": "455f073c-d63c-4318-8f31-5cb5240605d0",
   "metadata": {},
   "outputs": [
    {
     "name": "stdout",
     "output_type": "stream",
     "text": [
      "Skirv inn størrelse på lånet\n"
     ]
    },
    {
     "name": "stdin",
     "output_type": "stream",
     "text": [
      " 500\n"
     ]
    },
    {
     "name": "stdout",
     "output_type": "stream",
     "text": [
      "Skriv inn termin i år\n"
     ]
    },
    {
     "name": "stdin",
     "output_type": "stream",
     "text": [
      " 10\n"
     ]
    },
    {
     "name": "stdout",
     "output_type": "stream",
     "text": [
      "Skriv inn egenandel\n"
     ]
    },
    {
     "name": "stdin",
     "output_type": "stream",
     "text": [
      " 100\n"
     ]
    },
    {
     "name": "stdout",
     "output_type": "stream",
     "text": [
      "Skriv inn antall barn\n"
     ]
    },
    {
     "name": "stdin",
     "output_type": "stream",
     "text": [
      " 0\n"
     ]
    },
    {
     "name": "stdout",
     "output_type": "stream",
     "text": [
      "Skriv inn antall Biler\n"
     ]
    },
    {
     "name": "stdin",
     "output_type": "stream",
     "text": [
      " 0\n"
     ]
    },
    {
     "name": "stdout",
     "output_type": "stream",
     "text": [
      "[0. 1. 2. 3. 4. 5. 6. 7. 8. 9.]\n",
      "[55.3724276]\n",
      "[454.1275724]\n",
      "[8.62842388]\n",
      "[46.74400373]\n",
      "[407.38356867]\n",
      "[7.7402878]\n",
      "[47.6321398]\n",
      "[359.75142887]\n",
      "[6.83527715]\n",
      "[48.53715046]\n",
      "[311.21427841]\n",
      "[5.91307129]\n",
      "[49.45935631]\n",
      "[261.7549221]\n",
      "[4.97334352]\n",
      "[50.39908408]\n",
      "[211.35583801]\n",
      "[4.01576092]\n",
      "[51.35666668]\n",
      "[159.99917133]\n",
      "[3.03998426]\n",
      "[52.33244335]\n",
      "[107.66672798]\n",
      "[2.04566783]\n",
      "[53.32675977]\n",
      "[54.33996821]\n",
      "[1.0324594]\n",
      "[54.33996821]\n",
      "[2.34479103e-13]\n",
      "[4.45510295e-15]\n",
      "[55.3724276]\n"
     ]
    },
    {
     "data": {
      "image/png": "[encoded data removed]",
      "text/plain": [
       "<Figure size 432x288 with 1 Axes>"
      ]
     },
     "metadata": {
      "needs_background": "light"
     },
     "output_type": "display_data"
    },
    {
     "data": {
      "image/png": "[encoded data removed]",
      "text/plain": [
       "<Figure size 432x288 with 1 Axes>"
      ]
     },
     "metadata": {
      "needs_background": "light"
     },
     "output_type": "display_data"
    },
    {
     "name": "stdout",
     "output_type": "stream",
     "text": [
      "[array([454.1275724]), array([407.38356867]), array([359.75142887]), array([311.21427841]), array([261.7549221]), array([211.35583801]), array([159.99917133]), array([107.66672798]), array([54.33996821]), array([2.34479103e-13])]\n"
     ]
    },
    {
     "data": {
      "image/png": "[encoded data removed]",
      "text/plain": [
       "<Figure size 432x288 with 1 Axes>"
      ]
     },
     "metadata": {
      "needs_background": "light"
     },
     "output_type": "display_data"
    },
    {
     "name": "stdout",
     "output_type": "stream",
     "text": [
      "[array([8.62842388]), array([7.7402878]), array([6.83527715]), array([5.91307129]), array([4.97334352]), array([4.01576092]), array([3.03998426]), array([2.04566783]), array([1.0324594]), array([4.45510295e-15])]\n"
     ]
    },
    {
     "data": {
      "image/png": "[encoded data removed]",
      "text/plain": [
       "<Figure size 432x288 with 1 Axes>"
      ]
     },
     "metadata": {
      "needs_background": "light"
     },
     "output_type": "display_data"
    },
    {
     "name": "stdout",
     "output_type": "stream",
     "text": [
      "[array([46.74400373]), array([47.6321398]), array([48.53715046]), array([49.45935631]), array([50.39908408]), array([51.35666668]), array([52.33244335]), array([53.32675977]), array([54.33996821]), array([55.3724276])]\n"
     ]
    }
   ],
   "source": [
    "kalkulator()"
   ]
  },
  {
   "cell_type": "code",
   "execution_count": 81,
   "id": "6ccaa4d1-b908-473f-b249-926d3d30f68e",
   "metadata": {},
   "outputs": [
    {
     "name": "stdout",
     "output_type": "stream",
     "text": [
      "Defaulting to user installation because normal site-packages is not writeable\n",
      "Collecting tabulate\n",
      "  Downloading tabulate-0.8.9-py3-none-any.whl (25 kB)\n",
      "Installing collected packages: tabulate\n",
      "\u001b[33m  WARNING: The script tabulate is installed in '/azhome/sko084@ad.uit.no/.local/bin' which is not on PATH.\n",
      "  Consider adding this directory to PATH or, if you prefer to suppress this warning, use --no-warn-script-location.\u001b[0m\n",
      "Successfully installed tabulate-0.8.9\n",
      "Note: you may need to restart the kernel to use updated packages.\n"
     ]
    }
   ],
   "source": [
    "pip install tabulate"
   ]
  },
  {
   "cell_type": "code",
   "execution_count": 82,
   "id": "8f31887e-e9a0-425f-bd9b-b87e06542217",
   "metadata": {},
   "outputs": [
    {
     "name": "stdout",
     "output_type": "stream",
     "text": [
      "Defaulting to user installation because normal site-packages is not writeable\n",
      "Requirement already satisfied: tabulate in /azhome/sko084@ad.uit.no/.local/lib/python3.9/site-packages (0.8.9)\n",
      "Collecting to\n",
      "  Downloading to-0.3.tar.gz (26 kB)\n",
      "Collecting PATH\n",
      "  Downloading path-16.2.0-py3-none-any.whl (21 kB)\n",
      "Building wheels for collected packages: to\n",
      "  Building wheel for to (setup.py) ... \u001b[?25ldone\n",
      "\u001b[?25h  Created wheel for to: filename=to-0.3-py3-none-any.whl size=33554 sha256=5f6d57e5299f427803b09af1db8b7dd172d564ed7d08d1a3e0c8e2c272960f78\n",
      "  Stored in directory: /azhome/sko084@ad.uit.no/.cache/pip/wheels/ce/6b/1f/24a42b8bd904008551c329bf81e255614d4bd5689f8e50e793\n",
      "Successfully built to\n",
      "Installing collected packages: to, PATH\n",
      "Successfully installed PATH-16.2.0 to-0.3\n",
      "Note: you may need to restart the kernel to use updated packages.\n"
     ]
    }
   ],
   "source": [
    "pip install tabulate to PATH"
   ]
  },
  {
   "cell_type": "code",
   "execution_count": 84,
   "id": "111cc919-9870-48a2-b12c-446654a88c80",
   "metadata": {},
   "outputs": [
    {
     "ename": "ModuleNotFoundError",
     "evalue": "No module named 'tabulate'",
     "output_type": "error",
     "traceback": [
      "\u001b[0;31m---------------------------------------------------------------------------\u001b[0m",
      "\u001b[0;31mModuleNotFoundError\u001b[0m                       Traceback (most recent call last)",
      "\u001b[0;32m/tmp/ipykernel_38803/1130480202.py\u001b[0m in \u001b[0;36m<module>\u001b[0;34m\u001b[0m\n\u001b[0;32m----> 1\u001b[0;31m \u001b[0;32mimport\u001b[0m \u001b[0mtabulate\u001b[0m \u001b[0;32mas\u001b[0m \u001b[0mtb\u001b[0m\u001b[0;34m\u001b[0m\u001b[0;34m\u001b[0m\u001b[0m\n\u001b[0m",
      "\u001b[0;31mModuleNotFoundError\u001b[0m: No module named 'tabulate'"
     ]
    }
   ],
   "source": [
    "import tabulate as tb"
   ]
  },
  {
   "cell_type": "code",
   "execution_count": null,
   "id": "c89d1f5f-2cb9-4689-9548-9faa29e3aba2",
   "metadata": {},
   "outputs": [],
   "source": []
  }
 ],
 "metadata": {
  "kernelspec": {
   "display_name": "Python 3 (ipykernel)",
   "language": "python",
   "name": "python3"
  },
  "language_info": {
   "codemirror_mode": {
    "name": "ipython",
    "version": 3
   },
   "file_extension": ".py",
   "mimetype": "text/x-python",
   "name": "python",
   "nbconvert_exporter": "python",
   "pygments_lexer": "ipython3",
   "version": "3.9.5"
  }
 },
 "nbformat": 4,
 "nbformat_minor": 5
}
