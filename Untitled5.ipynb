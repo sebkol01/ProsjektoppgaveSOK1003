{
 "cells": [
  {
   "cell_type": "code",
   "execution_count": 3,
   "id": "9230cf06-18ef-4be5-8f4a-0d8e9ad25963",
   "metadata": {},
   "outputs": [],
   "source": [
    "import matplotlib.pyplot as plt\n",
    "from tabulate import tabulate\n",
    "\n",
    "def kalkulator():\n",
    "    years = np.array([])\n",
    "    print(\"Skirv inn størrelse på lånet\")\n",
    "    tb = np.array([]) #terminbeløp\n",
    "    loan = int(input())\n",
    "    print(\"Skriv inn termin i år\")\n",
    "    y = int(input())\n",
    "    print(\"Skriv inn egenandel\")\n",
    "    egen = int(input())\n",
    "    print(\"Skriv inn antall barn\")\n",
    "    kids = int(input())\n",
    "    print(\"Skriv inn antall Biler\")\n",
    "    car = int(input())\n",
    "    print(\"Hvor mye gjeld har du?\")\n",
    "    gjeld = int(input())\n",
    "    rente = 1.019\n",
    "    ad = np.array([]) #Avdrag \n",
    "    rb = np.array([]) #Rentebeløp\n",
    "    rl = np.array([]) #Resterende lån \n",
    "    rl0 = np.array([]) \n",
    "    ad0 = np.array([]) #Avdrag ved første tilbakebetaling\n",
    "    rb0 = np.array([])\n",
    "    ### factors\n",
    "    if kids >2 and car >1:\n",
    "        rente = rente*1.10\n",
    "    if kids ==2 and car ==1:\n",
    "        rente = rente*1.07\n",
    "    if kids ==1 and car ==1:\n",
    "        rente = rente *1.05\n",
    "    if kids >0 or car >0:\n",
    "        rente = rente * 1.03\n",
    "    if gjeld >100000:\n",
    "        rente = rente*1.11\n",
    "    for i in range(y):\n",
    "        years = np.append(years, i)\n",
    "    print(years)\n",
    "    \n",
    "    tb = np.append(tb, (loan*(rente)*((1/rente)-1))/(((1/rente)**(y))-1))\n",
    "    print(tb)\n",
    "    \n",
    "    rl0 = loan\n",
    "    rb0 = (rente-1)*loan\n",
    "    ad0 = tb-rb0\n",
    "    \n",
    "    rl = rl0\n",
    "    rb = rb0\n",
    "    ad = ad0\n",
    "    \n",
    "    print(rl)\n",
    "    print(rb)\n",
    "    print(ad)\n",
    "    adv = []\n",
    "    rbv = []\n",
    "    rlv = []\n",
    "    for j in range(y):\n",
    "        rl = rl-ad\n",
    "        rlv.append(rl)\n",
    "        rb = (rente-1)*rl\n",
    "        rbv.append(rb)  \n",
    "        ad = tb-rb\n",
    "        adv.append(ad)\n",
    "        \n",
    "    \n",
    "    \n",
    "    \n",
    "    \n",
    "    tid1 = []\n",
    "    for i in range(y):\n",
    "        t = i\n",
    "        tid1.append(t)\n",
    "    \n",
    "    \n",
    "    #skille mellom \n",
    "\n",
    "    #Få tak i elementet som er på plass nummer i og angi verdien \n",
    "    #Gjøre det med hver av de 3 vektorene som er definert.\n",
    "        \n",
    "        \n",
    "    \n",
    "    plt.bar(tid1, tb, color = \"black\",\n",
    "           width=0.5)\n",
    "    plt.title(\"Terminbeløp\")\n",
    "    plt.show()\n",
    "    \n",
    "\n",
    "    \n",
    "    plt.plot(tid1, rlv, color = \"black\")\n",
    "    plt.title(\"Resterende lån etter hver termin\")\n",
    "    plt.show()\n",
    "    print(tabulate(rlv, headers= (\"Termin\", \"Resterende lån\"), tablefmt='fancy_grid', showindex=True))\n",
    "    \n",
    "    plt.plot(tid1, rbv, color = \"black\")\n",
    "    plt.title(\"Rentbeløp hver termin\")\n",
    "    plt.show()\n",
    "    print(tabulate(rbv, headers= (\"Termin\", \"Rentebeløp\"), tablefmt='fancy_grid', showindex=True))\n",
    "    \n",
    "    plt.plot(tid1, adv, color = \"black\")\n",
    "    plt.title(\"Avdragsbeløp hver termin\")\n",
    "    plt.show()\n",
    "    print(tabulate(adv, headers= (\"Termin\", \"Avdrag\"), tablefmt='fancy_grid', showindex=True))"
   ]
  },
  {
   "cell_type": "code",
   "execution_count": 4,
   "id": "455f073c-d63c-4318-8f31-5cb5240605d0",
   "metadata": {},
   "outputs": [
    {
     "name": "stdout",
     "output_type": "stream",
     "text": [
      "Skirv inn størrelse på lånet\n"
     ]
    },
    {
     "name": "stdin",
     "output_type": "stream",
     "text": [
      " 500\n"
     ]
    },
    {
     "name": "stdout",
     "output_type": "stream",
     "text": [
      "Skriv inn termin i år\n"
     ]
    },
    {
     "name": "stdin",
     "output_type": "stream",
     "text": [
      " 10\n"
     ]
    },
    {
     "name": "stdout",
     "output_type": "stream",
     "text": [
      "Skriv inn egenandel\n"
     ]
    },
    {
     "name": "stdin",
     "output_type": "stream",
     "text": [
      " 100\n"
     ]
    },
    {
     "name": "stdout",
     "output_type": "stream",
     "text": [
      "Skriv inn antall barn\n"
     ]
    },
    {
     "name": "stdin",
     "output_type": "stream",
     "text": [
      " 0\n"
     ]
    },
    {
     "name": "stdout",
     "output_type": "stream",
     "text": [
      "Skriv inn antall Biler\n"
     ]
    },
    {
     "name": "stdin",
     "output_type": "stream",
     "text": [
      " 0\n"
     ]
    },
    {
     "name": "stdout",
     "output_type": "stream",
     "text": [
      "Hvor mye gjeld har du?\n"
     ]
    },
    {
     "name": "stdin",
     "output_type": "stream",
     "text": [
      " 0\n"
     ]
    },
    {
     "name": "stdout",
     "output_type": "stream",
     "text": [
      "[0. 1. 2. 3. 4. 5. 6. 7. 8. 9.]\n",
      "[55.3724276]\n",
      "500\n",
      "9.499999999999954\n",
      "[45.8724276]\n"
     ]
    },
    {
     "data": {
      "image/png": "[encoded data removed]",
      "text/plain": [
       "<Figure size 432x288 with 1 Axes>"
      ]
     },
     "metadata": {
      "needs_background": "light"
     },
     "output_type": "display_data"
    },
    {
     "data": {
      "image/png": "[encoded data removed]",
      "text/plain": [
       "<Figure size 432x288 with 1 Axes>"
      ]
     },
     "metadata": {
      "needs_background": "light"
     },
     "output_type": "display_data"
    },
    {
     "name": "stdout",
     "output_type": "stream",
     "text": [
      "╒══════════╤══════════════════╕\n",
      "│   Termin │   Resterende lån │\n",
      "╞══════════╪══════════════════╡\n",
      "│        0 │    454.128       │\n",
      "├──────────┼──────────────────┤\n",
      "│        1 │    407.384       │\n",
      "├──────────┼──────────────────┤\n",
      "│        2 │    359.751       │\n",
      "├──────────┼──────────────────┤\n",
      "│        3 │    311.214       │\n",
      "├──────────┼──────────────────┤\n",
      "│        4 │    261.755       │\n",
      "├──────────┼──────────────────┤\n",
      "│        5 │    211.356       │\n",
      "├──────────┼──────────────────┤\n",
      "│        6 │    159.999       │\n",
      "├──────────┼──────────────────┤\n",
      "│        7 │    107.667       │\n",
      "├──────────┼──────────────────┤\n",
      "│        8 │     54.34        │\n",
      "├──────────┼──────────────────┤\n",
      "│        9 │      2.34479e-13 │\n",
      "╘══════════╧══════════════════╛\n"
     ]
    },
    {
     "data": {
      "image/png": "[encoded data removed]",
      "text/plain": [
       "<Figure size 432x288 with 1 Axes>"
      ]
     },
     "metadata": {
      "needs_background": "light"
     },
     "output_type": "display_data"
    },
    {
     "name": "stdout",
     "output_type": "stream",
     "text": [
      "╒══════════╤══════════════╕\n",
      "│   Termin │   Rentebeløp │\n",
      "╞══════════╪══════════════╡\n",
      "│        0 │   8.62842    │\n",
      "├──────────┼──────────────┤\n",
      "│        1 │   7.74029    │\n",
      "├──────────┼──────────────┤\n",
      "│        2 │   6.83528    │\n",
      "├──────────┼──────────────┤\n",
      "│        3 │   5.91307    │\n",
      "├──────────┼──────────────┤\n",
      "│        4 │   4.97334    │\n",
      "├──────────┼──────────────┤\n",
      "│        5 │   4.01576    │\n",
      "├──────────┼──────────────┤\n",
      "│        6 │   3.03998    │\n",
      "├──────────┼──────────────┤\n",
      "│        7 │   2.04567    │\n",
      "├──────────┼──────────────┤\n",
      "│        8 │   1.03246    │\n",
      "├──────────┼──────────────┤\n",
      "│        9 │   4.4551e-15 │\n",
      "╘══════════╧══════════════╛\n"
     ]
    },
    {
     "data": {
      "image/png": "[encoded data removed]",
      "text/plain": [
       "<Figure size 432x288 with 1 Axes>"
      ]
     },
     "metadata": {
      "needs_background": "light"
     },
     "output_type": "display_data"
    },
    {
     "name": "stdout",
     "output_type": "stream",
     "text": [
      "╒══════════╤══════════╕\n",
      "│   Termin │   Avdrag │\n",
      "╞══════════╪══════════╡\n",
      "│        0 │  46.744  │\n",
      "├──────────┼──────────┤\n",
      "│        1 │  47.6321 │\n",
      "├──────────┼──────────┤\n",
      "│        2 │  48.5372 │\n",
      "├──────────┼──────────┤\n",
      "│        3 │  49.4594 │\n",
      "├──────────┼──────────┤\n",
      "│        4 │  50.3991 │\n",
      "├──────────┼──────────┤\n",
      "│        5 │  51.3567 │\n",
      "├──────────┼──────────┤\n",
      "│        6 │  52.3324 │\n",
      "├──────────┼──────────┤\n",
      "│        7 │  53.3268 │\n",
      "├──────────┼──────────┤\n",
      "│        8 │  54.34   │\n",
      "├──────────┼──────────┤\n",
      "│        9 │  55.3724 │\n",
      "╘══════════╧══════════╛\n"
     ]
    }
   ],
   "source": [
    "kalkulator()"
   ]
  },
  {
   "cell_type": "code",
   "execution_count": null,
   "id": "5226da53-c261-414c-85b6-bced6e26678f",
   "metadata": {},
   "outputs": [],
   "source": []
  }
 ],
 "metadata": {
  "kernelspec": {
   "display_name": "Python 3 (ipykernel)",
   "language": "python",
   "name": "python3"
  },
  "language_info": {
   "codemirror_mode": {
    "name": "ipython",
    "version": 3
   },
   "file_extension": ".py",
   "mimetype": "text/x-python",
   "name": "python",
   "nbconvert_exporter": "python",
   "pygments_lexer": "ipython3",
   "version": "3.9.5"
  }
 },
 "nbformat": 4,
 "nbformat_minor": 5
}
