{
 "cells": [
  {
   "cell_type": "markdown",
   "id": "a1d74d8b-8811-42df-9103-ecef00b01125",
   "metadata": {},
   "source": [
    "# Prosjektoppgave SOK-1003"
   ]
  },
  {
   "cell_type": "markdown",
   "id": "e4ccefcc-ca95-43d5-8618-aee0be8cc94d",
   "metadata": {},
   "source": [
    "Vi har valgt å lage en kalkulator som regner ut et annuitetslån. Vi valgte dette temaet fordi vi får se hvordan et annuitetslån fungerer og siden vi følte at det var relevant kunnskap å ha med seg som samfunnsøkonomer. Vi får sett fordeler og ulemper med et sånt lån både for banken og konsumenten, og i hvilke situasjoner det vil lønne seg med et annuitetslån kontra et serielån.\n",
    "\n",
    "Et annuitetslån er et lån der man betaler samme beløp hver termin. Altså at terminbeløpet er konstant. Renten og avdraget derimot varierer hver termin. I motsetning til et serielån, der avdraget er konstant hele tilbakebetalingsperioden, vil avdraget gradvis øke gjennom tilbakebetalingsperioden. I og med at terminbeløpet er konstant, må rentebeløpet synke med samme beløp som avdraget øker. \n",
    "\n",
    "Det er laget samme type kalkulator av ulike banker som man kan bruke fritt på nettsidene. Disse har vi sett på for å se hvilke argumenter som påvirker renten, og brukt det som inspirasjon for vår oppgave.\n",
    "\n",
    "Da vi har jobbet med å finne hva slags kode som kan brukes for å løse problemstillingen vår har vi hatt flittig bruk av google. Der har vi funnet forumposter med folk som har liknende problemer med koden sin, og hvordan de har fått hjelp til å løse dette. Vi har også brukt cheat sheets for pakkene vi bruker, for å se hva slags funksjoner de har og hva man trenger å fylle ut for å få resultatet vi ønsker. For å finne ut hvordan kalkulatoren skal få riktig resultat har vi funnet matteformler for terminbeløp i annuitetslån på matematikk.org.  \n",
    "\n",
    "\n",
    "Som utgangspunkt for oppgaven brukte vi det vi har lært i seminarene til å lage en mal for oppgaven. Vi lastet også ned nødvendige datapakker: numpy, matplotlib og tabulate. Dette gjorde vi for å kunne utføre de nødvendige funksjonene som vi trengte for å løse oppgaven. Kalkulatoren vi lagde stiller noen spørsmål som søkeren på lånet må svare på som er med på å påvirke hvordan lånet vil bli seende ut. Koden stiller følgende spørsmål: hvor mye personen skal låne, hvor mange år søkeren skal bruke på å tilbake betale lånet, hvor mye personen har i egenandel, hvor mange barn søkeren har, antall biler og hvor mye gjeld. Deretter har vi brukt «If» betingelser for å bestemme renten basert på hvilke betingelser som er oppfylt. F.eks. har personen 0 barn og 0 biler hvil renten ganges 1.03 og øker dermed litt. For at kalkulatoren skulle fungere måtte vi også definere ulike begreper ved hjelp av formler. \n",
    "\n",
    "For terminbeløpet brukte vi en formel som vi fant på matematikk.org som nevnt tidligere i oppgaven. Vi sleit litt med å finne ut hvordan man kunne regne ut avdragsdelen, rentebeløpsdelen samt resterende lån etter hver termin, men fant til slutt en måte å regne seg frem til det. Vi visste hvordan vi kunne regne ut tallene ved første termin. Vi visste at rl0(resterende lån før første tilbakebetaling) var samme beløp som størrelsen på lånet så vi satte rl0=loan. Rb0(rentebeløp ved første tilbakebetaling) satte vi lik (rente-1)*loan og ad0(avdrag ved første tilbakebetaling) satte vi lik terminbeløp-rb0. For å få tallene etter hver termin brukte vi en for-løkke der vi definerte alle begrepene med formler basert på de første tilbakebetalingene.  \n",
    "\n",
    "Til slutt plottet vi 4 figurer, 1 for terminbeløp, 1 for resterende lån etter hver termin, 1 for rentebeløp og 1 for avdragsbeløp. Og under plottet vi en tabell med hjelp fra tabulate-funksjonen som viser tallene ved hver termin for å få det oversiktlig."
   ]
  },
  {
   "cell_type": "code",
   "execution_count": 8,
   "id": "4ad43a6b-4d2d-4ed0-90e5-691ea7571040",
   "metadata": {},
   "outputs": [],
   "source": [
    "# Her importerer vi pakkene vi trenger\n",
    "import matplotlib.pyplot as plt\n",
    "from tabulate import tabulate\n",
    "import numpy as np\n",
    "\n",
    "# Her lager vi \"kalkulator\" funksjonen som skal brukes. \n",
    "def kalkulator():\n",
    "    years = np.array([])\n",
    "    print(\"Skirv inn størrelse på lånet\")\n",
    "    tb = np.array([]) #terminbeløp\n",
    "    loan = int(input())\n",
    "    print(\"Skriv inn termin i år\")\n",
    "    y = int(input())\n",
    "    print(\"Skriv inn antall barn\")\n",
    "    kids = int(input())\n",
    "    print(\"Skriv inn antall Biler\")\n",
    "    car = int(input())\n",
    "    print(\"Hvor mye gjeld har du?\")\n",
    "    gjeld = int(input())\n",
    "    rente = 1.019\n",
    "    ad = np.array([]) #Avdrag \n",
    "    rb = np.array([]) #Rentebeløp\n",
    "    rl = np.array([]) #Resterende lån \n",
    "    rl0 = np.array([]) \n",
    "    ad0 = np.array([]) #Avdrag ved første tilbakebetaling\n",
    "    rb0 = np.array([])\n",
    "    # Her er faktorene som påvirker rentebeløpet.\n",
    "    if kids >2 and car >1:\n",
    "        rente = rente*1.10\n",
    "    if kids ==2 and car ==1:\n",
    "        rente = rente*1.07\n",
    "    if kids ==1 and car ==1:\n",
    "        rente = rente *1.05\n",
    "    if kids >0 or car >0:\n",
    "        rente = rente * 1.03\n",
    "    if gjeld >100000:\n",
    "        rente = rente*1.11\n",
    "    for i in range(y):\n",
    "        years = np.append(years, i)\n",
    "    \n",
    "    # Terminbeløp funksjon\n",
    "    tb = np.append(tb, (loan*(rente)*((1/rente)-1))/(((1/rente)**(y))-1))\n",
    " \n",
    "    \n",
    "    rl0 = loan # Restlån første termin\n",
    "    rb0 = (rente-1)*loan # Rentebeløp første termin\n",
    "    ad0 = tb-rb0 # Avdrag første termin\n",
    "    \n",
    "    rl = rl0\n",
    "    rb = rb0\n",
    "    ad = ad0\n",
    "    \n",
    "\n",
    "    adv = []\n",
    "    rbv = []\n",
    "    rlv = []\n",
    "    for j in range(y):\n",
    "        rl = rl-ad\n",
    "        rlv.append(rl)\n",
    "        rb = (rente-1)*rl\n",
    "        rbv.append(rb)  \n",
    "        ad = tb-rb\n",
    "        adv.append(ad)\n",
    "        \n",
    "   # Formel for å regne ut avdrag, restlån og rentebeløp for hver termin \n",
    "    \n",
    "    \n",
    "    \n",
    "    tid1 = []\n",
    "    for i in range(y):\n",
    "        t = i\n",
    "        tid1.append(t)\n",
    "    \n",
    "    # En dynamisk vektor for tid i grafen    \n",
    "        \n",
    "    # Plot for terminbeløp\n",
    "    \n",
    "    plt.bar(tid1, tb, color = \"black\",\n",
    "           width=0.5)\n",
    "    plt.title(\"Terminbeløp\")\n",
    "    plt.show()\n",
    "    \n",
    "    print(\"Terminbeløp\")\n",
    "    print(tb)\n",
    "    \n",
    "    # Plot for \n",
    "    \n",
    "    plt.plot(tid1, rlv, color = \"black\")\n",
    "    plt.title(\"Resterende lån etter hver termin\")\n",
    "    plt.show()\n",
    "    print(tabulate(rlv, headers= (\"Termin\", \"Resterende lån\"), tablefmt='fancy_grid', showindex=True))\n",
    "    \n",
    "    plt.plot(tid1, rbv, color = \"black\")\n",
    "    plt.title(\"Rentbeløp hver termin\")\n",
    "    plt.show()\n",
    "    print(tabulate(rbv, headers= (\"Termin\", \"Rentebeløp\"), tablefmt='fancy_grid', showindex=True))\n",
    "    \n",
    "    plt.plot(tid1, adv, color = \"black\")\n",
    "    plt.title(\"Avdragsbeløp hver termin\")\n",
    "    plt.show()\n",
    "    print(tabulate(adv, headers= (\"Termin\", \"Avdrag\"), tablefmt='fancy_grid', showindex=True))"
   ]
  },
  {
   "cell_type": "code",
   "execution_count": null,
   "id": "455f073c-d63c-4318-8f31-5cb5240605d0",
   "metadata": {},
   "outputs": [
    {
     "name": "stdout",
     "output_type": "stream",
     "text": [
      "Skirv inn størrelse på lånet\n"
     ]
    },
    {
     "name": "stdin",
     "output_type": "stream",
     "text": [
      " 2000000\n"
     ]
    },
    {
     "name": "stdout",
     "output_type": "stream",
     "text": [
      "Skriv inn termin i år\n"
     ]
    },
    {
     "name": "stdin",
     "output_type": "stream",
     "text": [
      " 18\n"
     ]
    },
    {
     "name": "stdout",
     "output_type": "stream",
     "text": [
      "Skriv inn antall barn\n"
     ]
    },
    {
     "name": "stdin",
     "output_type": "stream",
     "text": [
      " 2\n"
     ]
    },
    {
     "name": "stdout",
     "output_type": "stream",
     "text": [
      "Skriv inn antall Biler\n"
     ]
    },
    {
     "name": "stdin",
     "output_type": "stream",
     "text": [
      " 1\n"
     ]
    },
    {
     "name": "stdout",
     "output_type": "stream",
     "text": [
      "Hvor mye gjeld har du?\n"
     ]
    }
   ],
   "source": [
    "kalkulator()"
   ]
  },
  {
   "cell_type": "markdown",
   "id": "a7686ad7-4181-45b1-845d-04e3114c1bed",
   "metadata": {},
   "source": [
    "Etter å ha jobbet med denne oppgaven kan vi se at et annuitetslån kan være lurt for lån som har en kort nedbetalingsperiode. Derimot kan det bli dyrt hvis nedbetalingsperioden er lang, og det kan da være mer lønnsomt for låntakeren å benytte seg av et serielån. \n",
    "\n",
    "Under arbeidet med oppgaven har det oppstått flere problemer. Blant annet var det vanskelig å vite hva slags matematiske formler som var nødvendig for å vise avdrag, rentebeløp og restlån etter hver termin i og med at disse beløpene varierer og er avhengige av hverandre. Vi har valgt å bruk en pakke som ikke er en del av pensum for å lage tabeller under grafene våre. Denne fant vi da vi så etter en måte for å lage en tabell som var dynamisk, med bruk av funksjoner. Denne pakken heter \"Tabulate\". \n",
    "\n",
    "Etter å ha jobbet med oppgaven føler vi at vi har en bedre forståelse av hvordna man bruker python. For eksempel har vi lært mer om når vi kan ha bruk for å lage funksjoner og for løkker. "
   ]
  },
  {
   "cell_type": "markdown",
   "id": "373239c8-50a9-4c82-afba-2b27e8bb9893",
   "metadata": {},
   "source": [
    "### Kilder\n",
    "Astanin, S. (2021, 22. Februar) pypi.org hentet fra https://pypi.org/project/tabulate/ "
   ]
  }
 ],
 "metadata": {
  "kernelspec": {
   "display_name": "Python 3 (ipykernel)",
   "language": "python",
   "name": "python3"
  },
  "language_info": {
   "codemirror_mode": {
    "name": "ipython",
    "version": 3
   },
   "file_extension": ".py",
   "mimetype": "text/x-python",
   "name": "python",
   "nbconvert_exporter": "python",
   "pygments_lexer": "ipython3",
   "version": "3.9.5"
  }
 },
 "nbformat": 4,
 "nbformat_minor": 5
}
