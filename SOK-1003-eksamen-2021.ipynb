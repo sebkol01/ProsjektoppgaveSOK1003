{
 "cells": [
  {
   "cell_type": "markdown",
   "id": "a1d74d8b-8811-42df-9103-ecef00b01125",
   "metadata": {},
   "source": [
    "# Prosjektoppgave SOK-1003"
   ]
  },
  {
   "cell_type": "markdown",
   "id": "e4ccefcc-ca95-43d5-8618-aee0be8cc94d",
   "metadata": {},
   "source": [
    "Vi har valgt å lage en kalkulator som regner ut et annuitetslån. Vi valgte dette temaet fordi vi får se hvordan et annuitetslån fungerer og siden vi følte at det var relevant kunnskap å ha med seg som samfunnsøkonomer. Vi får sett fordeler og ulemper med et sånt lån både for banken og konsumenten, og i hvilke situasjoner det vil lønne seg med et annuitetslån kontra et serielån.\n",
    "\n",
    "Et annuitetslån er et lån der man betaler samme beløp hver termin. Altså at terminbeløpet er konstant. Renten og avdraget derimot varierer hver termin. I motsetning til et serielån, der avdraget er konstant hele tilbakebetalingsperioden, vil avdraget øke hver termin. I og med at terminbeløpet er konstant, må rentebeløpet synke med samme beløp som avdraget øker. \n",
    "\n",
    "Det er laget samme type kalkulator av ulike banker som man kan bruke fritt på nettsidene. Disse har vi sett på for å se hvilke argumenter som påvirker renter, så vi også kan ha dette med i vår kalkulator. \n",
    "\n",
    "Da vi har jobbet med å finne hva slags kode som kan brukes for å løse problemstillingen vår har vi hatt flittig bruk av google. Der har vi funnet forumposter med folk som har liknende problemer med koden sin, og hvordan de har fått hjelp til å løse dette. Vi har også brukt cheat sheets for pakkene vi bruker, for å se hva slags funksjoner de har og hva man trenger å fylle ut for å få resultatet vi ønsker. For å finne ut hvordan kalkulatoren skal få riktig resultat har vi funnet matteformlene s"
   ]
  },
  {
   "cell_type": "code",
   "execution_count": 4,
   "id": "4ad43a6b-4d2d-4ed0-90e5-691ea7571040",
   "metadata": {},
   "outputs": [],
   "source": [
    "# Her importerer vi pakkene vi trenger\n",
    "import matplotlib.pyplot as plt\n",
    "from tabulate import tabulate\n",
    "import numpy as np\n",
    "\n",
    "# Her lager vi \"kalkulator\" funksjonen som skal brukes. \n",
    "def kalkulator():\n",
    "    years = np.array([])\n",
    "    print(\"Skirv inn størrelse på lånet\")\n",
    "    tb = np.array([]) #terminbeløp\n",
    "    loan = int(input())\n",
    "    print(\"Skriv inn termin i år\")\n",
    "    y = int(input())\n",
    "    print(\"Skriv inn egenkapital\")\n",
    "    egen = int(input())\n",
    "    print(\"Skriv inn antall barn\")\n",
    "    kids = int(input())\n",
    "    print(\"Skriv inn antall Biler\")\n",
    "    car = int(input())\n",
    "    print(\"Hvor mye gjeld har du?\")\n",
    "    gjeld = int(input())\n",
    "    rente = 1.019\n",
    "    ad = np.array([]) #Avdrag \n",
    "    rb = np.array([]) #Rentebeløp\n",
    "    rl = np.array([]) #Resterende lån \n",
    "    rl0 = np.array([]) \n",
    "    ad0 = np.array([]) #Avdrag ved første tilbakebetaling\n",
    "    rb0 = np.array([])\n",
    "    # Her er faktorene som påvirker rentebeløpet.\n",
    "    if kids >2 and car >1:\n",
    "        rente = rente*1.10\n",
    "    if kids ==2 and car ==1:\n",
    "        rente = rente*1.07\n",
    "    if kids ==1 and car ==1:\n",
    "        rente = rente *1.05\n",
    "    if kids >0 or car >0:\n",
    "        rente = rente * 1.03\n",
    "    if gjeld >100000:\n",
    "        rente = rente*1.11\n",
    "    for i in range(y):\n",
    "        years = np.append(years, i)\n",
    "    \n",
    "    \n",
    "    tb = np.append(tb, (loan*(rente)*((1/rente)-1))/(((1/rente)**(y))-1))\n",
    " \n",
    "    \n",
    "    rl0 = loan\n",
    "    rb0 = (rente-1)*loan\n",
    "    ad0 = tb-rb0\n",
    "    \n",
    "    rl = rl0\n",
    "    rb = rb0\n",
    "    ad = ad0\n",
    "    \n",
    "\n",
    "    adv = []\n",
    "    rbv = []\n",
    "    rlv = []\n",
    "    for j in range(y):\n",
    "        rl = rl-ad\n",
    "        rlv.append(rl)\n",
    "        rb = (rente-1)*rl\n",
    "        rbv.append(rb)  \n",
    "        ad = tb-rb\n",
    "        adv.append(ad)\n",
    "        \n",
    "    \n",
    "    \n",
    "    \n",
    "    \n",
    "    tid1 = []\n",
    "    for i in range(y):\n",
    "        t = i\n",
    "        tid1.append(t)\n",
    "    \n",
    "    \n",
    "    #skille mellom \n",
    "\n",
    "    #Få tak i elementet som er på plass nummer i og angi verdien \n",
    "    #Gjøre det med hver av de 3 vektorene som er definert.\n",
    "        \n",
    "        \n",
    "    \n",
    "    plt.bar(tid1, tb, color = \"black\",\n",
    "           width=0.5)\n",
    "    plt.title(\"Terminbeløp\")\n",
    "    plt.show()\n",
    "    \n",
    "    print(tb)\n",
    "    \n",
    "    plt.plot(tid1, rlv, color = \"black\")\n",
    "    plt.title(\"Resterende lån etter hver termin\")\n",
    "    plt.show()\n",
    "    print(tabulate(rlv, headers= (\"Termin\", \"Resterende lån\"), tablefmt='fancy_grid', showindex=True))\n",
    "    \n",
    "    plt.plot(tid1, rbv, color = \"black\")\n",
    "    plt.title(\"Rentbeløp hver termin\")\n",
    "    plt.show()\n",
    "    print(tabulate(rbv, headers= (\"Termin\", \"Rentebeløp\"), tablefmt='fancy_grid', showindex=True))\n",
    "    \n",
    "    plt.plot(tid1, adv, color = \"black\")\n",
    "    plt.title(\"Avdragsbeløp hver termin\")\n",
    "    plt.show()\n",
    "    print(tabulate(adv, headers= (\"Termin\", \"Avdrag\"), tablefmt='fancy_grid', showindex=True))"
   ]
  },
  {
   "cell_type": "code",
   "execution_count": 7,
   "id": "455f073c-d63c-4318-8f31-5cb5240605d0",
   "metadata": {},
   "outputs": [
    {
     "name": "stdout",
     "output_type": "stream",
     "text": [
      "Skirv inn størrelse på lånet\n"
     ]
    },
    {
     "name": "stdin",
     "output_type": "stream",
     "text": [
      " 10000\n"
     ]
    },
    {
     "name": "stdout",
     "output_type": "stream",
     "text": [
      "Skriv inn termin i år\n"
     ]
    },
    {
     "name": "stdin",
     "output_type": "stream",
     "text": [
      " 10\n"
     ]
    },
    {
     "name": "stdout",
     "output_type": "stream",
     "text": [
      "Skriv inn egenandel\n"
     ]
    },
    {
     "name": "stdin",
     "output_type": "stream",
     "text": [
      " 1000\n"
     ]
    },
    {
     "name": "stdout",
     "output_type": "stream",
     "text": [
      "Skriv inn antall barn\n"
     ]
    },
    {
     "name": "stdin",
     "output_type": "stream",
     "text": [
      " 0\n"
     ]
    },
    {
     "name": "stdout",
     "output_type": "stream",
     "text": [
      "Skriv inn antall Biler\n"
     ]
    },
    {
     "name": "stdin",
     "output_type": "stream",
     "text": [
      " 0\n"
     ]
    },
    {
     "name": "stdout",
     "output_type": "stream",
     "text": [
      "Hvor mye gjeld har du?\n"
     ]
    },
    {
     "name": "stdin",
     "output_type": "stream",
     "text": [
      " 0\n"
     ]
    },
    {
     "data": {
      "image/png": "[encoded data removed]",
      "text/plain": [
       "<Figure size 432x288 with 1 Axes>"
      ]
     },
     "metadata": {
      "needs_background": "light"
     },
     "output_type": "display_data"
    },
    {
     "name": "stdout",
     "output_type": "stream",
     "text": [
      "[1107.44855209]\n"
     ]
    },
    {
     "data": {
      "image/png": "[encoded data removed]",
      "text/plain": [
       "<Figure size 432x288 with 1 Axes>"
      ]
     },
     "metadata": {
      "needs_background": "light"
     },
     "output_type": "display_data"
    },
    {
     "name": "stdout",
     "output_type": "stream",
     "text": [
      "╒══════════╤══════════════════╕\n",
      "│   Termin │   Resterende lån │\n",
      "╞══════════╪══════════════════╡\n",
      "│        0 │   9082.55        │\n",
      "├──────────┼──────────────────┤\n",
      "│        1 │   8147.67        │\n",
      "├──────────┼──────────────────┤\n",
      "│        2 │   7195.03        │\n",
      "├──────────┼──────────────────┤\n",
      "│        3 │   6224.29        │\n",
      "├──────────┼──────────────────┤\n",
      "│        4 │   5235.1         │\n",
      "├──────────┼──────────────────┤\n",
      "│        5 │   4227.12        │\n",
      "├──────────┼──────────────────┤\n",
      "│        6 │   3199.98        │\n",
      "├──────────┼──────────────────┤\n",
      "│        7 │   2153.33        │\n",
      "├──────────┼──────────────────┤\n",
      "│        8 │   1086.8         │\n",
      "├──────────┼──────────────────┤\n",
      "│        9 │      6.36646e-12 │\n",
      "╘══════════╧══════════════════╛\n"
     ]
    },
    {
     "data": {
      "image/png": "[encoded data removed]",
      "text/plain": [
       "<Figure size 432x288 with 1 Axes>"
      ]
     },
     "metadata": {
      "needs_background": "light"
     },
     "output_type": "display_data"
    },
    {
     "name": "stdout",
     "output_type": "stream",
     "text": [
      "╒══════════╤═══════════════╕\n",
      "│   Termin │    Rentebeløp │\n",
      "╞══════════╪═══════════════╡\n",
      "│        0 │ 172.568       │\n",
      "├──────────┼───────────────┤\n",
      "│        1 │ 154.806       │\n",
      "├──────────┼───────────────┤\n",
      "│        2 │ 136.706       │\n",
      "├──────────┼───────────────┤\n",
      "│        3 │ 118.261       │\n",
      "├──────────┼───────────────┤\n",
      "│        4 │  99.4669      │\n",
      "├──────────┼───────────────┤\n",
      "│        5 │  80.3152      │\n",
      "├──────────┼───────────────┤\n",
      "│        6 │  60.7997      │\n",
      "├──────────┼───────────────┤\n",
      "│        7 │  40.9134      │\n",
      "├──────────┼───────────────┤\n",
      "│        8 │  20.6492      │\n",
      "├──────────┼───────────────┤\n",
      "│        9 │   1.20963e-13 │\n",
      "╘══════════╧═══════════════╛\n"
     ]
    },
    {
     "data": {
      "image/png": "[encoded data removed]",
      "text/plain": [
       "<Figure size 432x288 with 1 Axes>"
      ]
     },
     "metadata": {
      "needs_background": "light"
     },
     "output_type": "display_data"
    },
    {
     "name": "stdout",
     "output_type": "stream",
     "text": [
      "╒══════════╤══════════╕\n",
      "│   Termin │   Avdrag │\n",
      "╞══════════╪══════════╡\n",
      "│        0 │  934.88  │\n",
      "├──────────┼──────────┤\n",
      "│        1 │  952.643 │\n",
      "├──────────┼──────────┤\n",
      "│        2 │  970.743 │\n",
      "├──────────┼──────────┤\n",
      "│        3 │  989.187 │\n",
      "├──────────┼──────────┤\n",
      "│        4 │ 1007.98  │\n",
      "├──────────┼──────────┤\n",
      "│        5 │ 1027.13  │\n",
      "├──────────┼──────────┤\n",
      "│        6 │ 1046.65  │\n",
      "├──────────┼──────────┤\n",
      "│        7 │ 1066.54  │\n",
      "├──────────┼──────────┤\n",
      "│        8 │ 1086.8   │\n",
      "├──────────┼──────────┤\n",
      "│        9 │ 1107.45  │\n",
      "╘══════════╧══════════╛\n"
     ]
    }
   ],
   "source": [
    "kalkulator()"
   ]
  },
  {
   "cell_type": "code",
   "execution_count": null,
   "id": "c09df436-f6d8-4cdc-af7e-9c798ab979f3",
   "metadata": {},
   "outputs": [],
   "source": []
  }
 ],
 "metadata": {
  "kernelspec": {
   "display_name": "Python 3 (ipykernel)",
   "language": "python",
   "name": "python3"
  },
  "language_info": {
   "codemirror_mode": {
    "name": "ipython",
    "version": 3
   },
   "file_extension": ".py",
   "mimetype": "text/x-python",
   "name": "python",
   "nbconvert_exporter": "python",
   "pygments_lexer": "ipython3",
   "version": "3.9.5"
  }
 },
 "nbformat": 4,
 "nbformat_minor": 5
}
